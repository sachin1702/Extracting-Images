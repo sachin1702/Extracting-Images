{
 "cells": [
  {
   "cell_type": "code",
   "execution_count": 1,
   "metadata": {},
   "outputs": [
    {
     "name": "stdout",
     "output_type": "stream",
     "text": [
      "C:\\Users\\Project Python\\Automation\\Extracting images from Excel Document\n",
      "---- Image No. 0000001 ----\n",
      "---- Image No. 0000002 ----\n"
     ]
    },
    {
     "ename": "TypeError",
     "evalue": "'bool' object is not callable",
     "output_type": "error",
     "traceback": [
      "\u001b[1;31m---------------------------------------------------------------------------\u001b[0m",
      "\u001b[1;31mTypeError\u001b[0m                                 Traceback (most recent call last)",
      "\u001b[1;32m<ipython-input-1-9651986e7571>\u001b[0m in \u001b[0;36m<module>\u001b[1;34m\u001b[0m\n\u001b[0;32m     48\u001b[0m \u001b[0mmail\u001b[0m\u001b[1;33m.\u001b[0m\u001b[0mTo\u001b[0m \u001b[1;33m=\u001b[0m \u001b[1;34m'sachin.u.kumar@ericsson.com'\u001b[0m\u001b[1;33m\u001b[0m\u001b[1;33m\u001b[0m\u001b[0m\n\u001b[0;32m     49\u001b[0m \u001b[0mmail\u001b[0m\u001b[1;33m.\u001b[0m\u001b[0mSubject\u001b[0m \u001b[1;33m=\u001b[0m \u001b[1;34m'Graph'\u001b[0m\u001b[1;33m\u001b[0m\u001b[1;33m\u001b[0m\u001b[0m\n\u001b[1;32m---> 50\u001b[1;33m \u001b[0mmail\u001b[0m\u001b[1;33m.\u001b[0m\u001b[0msend\u001b[0m\u001b[1;33m(\u001b[0m\u001b[1;33m)\u001b[0m\u001b[1;33m\u001b[0m\u001b[1;33m\u001b[0m\u001b[0m\n\u001b[0m",
      "\u001b[1;31mTypeError\u001b[0m: 'bool' object is not callable"
     ]
    }
   ],
   "source": [
    "import win32com.client as win32     # Need pywin32 from pip\n",
    "from PIL import ImageGrab    # Need PIL as well\n",
    "import os\n",
    "\n",
    "excel = win32.Dispatch(\"Excel.Application\")\n",
    "workbook = excel.Workbooks.Open(r'C:\\Users\\Desktop\\Project Python\\Automation\\Extracting images from Excel Document\\ActivationReport.xlsx')\n",
    "wb_folder = workbook.Path\n",
    "print(wb_folder)\n",
    "\n",
    "#print \"Extracting images from %s\" % wb_path\n",
    "\n",
    "image_no = 0\n",
    "\n",
    "for sheet in workbook.Worksheets:\n",
    "    for n, shape in enumerate(sheet.Shapes):\n",
    "        if shape.Name.startswith(\"Picture 1\"):\n",
    "            # Some debug output for console\n",
    "            image_no += 1\n",
    "            print (\"---- Image No. %07i ----\" % image_no)\n",
    "\n",
    "            # Sequence number the pictures, if there's more than one\n",
    "            num = \"\" if n == 0 else \"_%03i\" % n\n",
    "\n",
    "            filename = sheet.Name[18:20]+num+\".jpg\"\n",
    "            file_path = os.path.join (wb_folder, filename)\n",
    "\n",
    "            #print \"Saving as %s\" % file_path    # Debug output\n",
    "\n",
    "            shape.Copy() # Copies from Excel to Windows clipboard\n",
    "\n",
    "            # Use PIL (python imaging library) to save from Windows clipboard\n",
    "            # to a file\n",
    "            image = ImageGrab.grabclipboard()\n",
    "            image.save(file_path,'jpeg')\n",
    "            \n",
    "outlook = win32.Dispatch('outlook.application')\n",
    "mail = outlook.CreateItem(0)\n",
    "\n",
    "attachement1 = r'C:\\Users\\Desktop\\Project Python\\Automation\\Extracting images from Excel Document\\p1.jpg'\n",
    "mail.Attachments.Add(attachement1)\n",
    "\n",
    "attachement2 = r'C:\\Users\\Desktop\\Project Python\\Automation\\Extracting images from Excel Document\\p2.jpg'\n",
    "mail.Attachments.Add(attachement2)\n",
    "\n",
    "mail.HTMLBody = \"<html><body> <img src='cid:p1.jpg'> <img src='cid:p2.jpg'> </body></html>\";\n",
    "\n",
    "\n",
    "mail.To = 'Your Email ID'\n",
    "mail.Subject = 'Graph'\n",
    "mail.send()"
   ]
  },
  {
   "cell_type": "code",
   "execution_count": 10,
   "metadata": {},
   "outputs": [],
   "source": [
    "import base64"
   ]
  },
  {
   "cell_type": "code",
   "execution_count": null,
   "metadata": {},
   "outputs": [],
   "source": []
  }
 ],
 "metadata": {
  "kernelspec": {
   "display_name": "Python 3",
   "language": "python",
   "name": "python3"
  },
  "language_info": {
   "codemirror_mode": {
    "name": "ipython",
    "version": 3
   },
   "file_extension": ".py",
   "mimetype": "text/x-python",
   "name": "python",
   "nbconvert_exporter": "python",
   "pygments_lexer": "ipython3",
   "version": "3.7.3"
  }
 },
 "nbformat": 4,
 "nbformat_minor": 2
}
